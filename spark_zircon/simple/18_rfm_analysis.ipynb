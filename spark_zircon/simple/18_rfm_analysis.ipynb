{
 "cells": [
  {
   "attachments": {},
   "cell_type": "markdown",
   "metadata": {},
   "source": [
    "## RFM analysis"
   ]
  },
  {
   "attachments": {},
   "cell_type": "markdown",
   "metadata": {},
   "source": [
    "#### imports"
   ]
  },
  {
   "cell_type": "code",
   "execution_count": 1,
   "metadata": {},
   "outputs": [],
   "source": [
    "import os\n",
    "import sys\n",
    "import warnings\n",
    "\n",
    "from pyspark.sql import SparkSession\n",
    "from pyspark.sql.functions import count\n",
    "from pyspark.sql.functions import to_utc_timestamp, unix_timestamp, round, col\n"
   ]
  },
  {
   "cell_type": "code",
   "execution_count": 37,
   "metadata": {},
   "outputs": [],
   "source": [
    "warnings.filterwarnings('ignore')\n",
    "\n",
    "SCRIPT_DIR = os.path.abspath('')\n",
    "sys.path.append(os.path.dirname(SCRIPT_DIR))"
   ]
  },
  {
   "attachments": {},
   "cell_type": "markdown",
   "metadata": {},
   "source": [
    "#### Get data"
   ]
  },
  {
   "cell_type": "code",
   "execution_count": 3,
   "metadata": {},
   "outputs": [],
   "source": [
    "from util.file import get_absolute_file_path\n",
    "\n",
    "relative_path = \"../data/online_retail.csv\"\n",
    "file_path = get_absolute_file_path(relative_path)"
   ]
  },
  {
   "cell_type": "code",
   "execution_count": 38,
   "metadata": {},
   "outputs": [],
   "source": [
    "spark = SparkSession \\\n",
    "    .builder \\\n",
    "    .appName(\"RFM analysis\") \\\n",
    "    .getOrCreate()"
   ]
  },
  {
   "cell_type": "code",
   "execution_count": 5,
   "metadata": {},
   "outputs": [
    {
     "name": "stdout",
     "output_type": "stream",
     "text": [
      "+---------+---------+--------------------+--------+--------------+---------+----------+--------------+\n",
      "|InvoiceNo|StockCode|         Description|Quantity|   InvoiceDate|UnitPrice|CustomerID|       Country|\n",
      "+---------+---------+--------------------+--------+--------------+---------+----------+--------------+\n",
      "|   536365|   85123A|WHITE HANGING HEA...|       6|12/1/2010 8:26|     2.55|     17850|United Kingdom|\n",
      "|   536365|    71053| WHITE METAL LANTERN|       6|12/1/2010 8:26|     3.39|     17850|United Kingdom|\n",
      "|   536365|   84406B|CREAM CUPID HEART...|       8|12/1/2010 8:26|     2.75|     17850|United Kingdom|\n",
      "|   536365|   84029G|KNITTED UNION FLA...|       6|12/1/2010 8:26|     3.39|     17850|United Kingdom|\n",
      "|   536365|   84029E|RED WOOLLY HOTTIE...|       6|12/1/2010 8:26|     3.39|     17850|United Kingdom|\n",
      "+---------+---------+--------------------+--------+--------------+---------+----------+--------------+\n",
      "only showing top 5 rows\n",
      "\n"
     ]
    }
   ],
   "source": [
    "df = spark.read.format('csv') \\\n",
    "            .options(header='true', inferschema='true') \\\n",
    "            .load(file_path);\n",
    "df.show(5)"
   ]
  },
  {
   "cell_type": "code",
   "execution_count": 6,
   "metadata": {},
   "outputs": [
    {
     "name": "stdout",
     "output_type": "stream",
     "text": [
      "root\n",
      " |-- InvoiceNo: string (nullable = true)\n",
      " |-- StockCode: string (nullable = true)\n",
      " |-- Description: string (nullable = true)\n",
      " |-- Quantity: integer (nullable = true)\n",
      " |-- InvoiceDate: string (nullable = true)\n",
      " |-- UnitPrice: double (nullable = true)\n",
      " |-- CustomerID: integer (nullable = true)\n",
      " |-- Country: string (nullable = true)\n",
      "\n"
     ]
    }
   ],
   "source": [
    "df.printSchema()"
   ]
  },
  {
   "attachments": {},
   "cell_type": "markdown",
   "metadata": {},
   "source": [
    "#### Data clean and data manipulation"
   ]
  },
  {
   "cell_type": "code",
   "execution_count": 7,
   "metadata": {},
   "outputs": [],
   "source": [
    "def my_count(df_in):\n",
    "    df_in.agg(*[ count(c).alias(c) for c in df_in.columns ] ).show()"
   ]
  },
  {
   "cell_type": "code",
   "execution_count": 8,
   "metadata": {},
   "outputs": [
    {
     "name": "stdout",
     "output_type": "stream",
     "text": [
      "+---------+---------+-----------+--------+-----------+---------+----------+-------+\n",
      "|InvoiceNo|StockCode|Description|Quantity|InvoiceDate|UnitPrice|CustomerID|Country|\n",
      "+---------+---------+-----------+--------+-----------+---------+----------+-------+\n",
      "|   541909|   541909|     540455|  541909|     541909|   541909|    406829| 541909|\n",
      "+---------+---------+-----------+--------+-----------+---------+----------+-------+\n",
      "\n"
     ]
    }
   ],
   "source": [
    "my_count(df)"
   ]
  },
  {
   "attachments": {},
   "cell_type": "markdown",
   "metadata": {},
   "source": [
    "Since the count results are not the same, we have some null value in the CustomerID column. We can drop these records from the dataset."
   ]
  },
  {
   "cell_type": "code",
   "execution_count": 9,
   "metadata": {},
   "outputs": [
    {
     "name": "stdout",
     "output_type": "stream",
     "text": [
      "+---------+---------+-----------+--------+-----------+---------+----------+-------+\n",
      "|InvoiceNo|StockCode|Description|Quantity|InvoiceDate|UnitPrice|CustomerID|Country|\n",
      "+---------+---------+-----------+--------+-----------+---------+----------+-------+\n",
      "|   406829|   406829|     406829|  406829|     406829|   406829|    406829| 406829|\n",
      "+---------+---------+-----------+--------+-----------+---------+----------+-------+\n",
      "\n"
     ]
    }
   ],
   "source": [
    "df = df.dropna(how='any')\n",
    "my_count(df)"
   ]
  },
  {
   "attachments": {},
   "cell_type": "markdown",
   "metadata": {},
   "source": [
    "Deal with the InvoiceDate"
   ]
  },
  {
   "cell_type": "code",
   "execution_count": 10,
   "metadata": {},
   "outputs": [],
   "source": [
    "spark.sql(\"set spark.sql.legacy.timeParserPolicy=LEGACY\")\n",
    "timeFmt = \"MM/dd/yy HH:mm\"\n",
    "\n",
    "df = df.withColumn('NewInvoiceDate',to_utc_timestamp(unix_timestamp(col('InvoiceDate'), timeFmt).cast('timestamp'), 'UTC'))"
   ]
  },
  {
   "cell_type": "code",
   "execution_count": 11,
   "metadata": {},
   "outputs": [
    {
     "name": "stdout",
     "output_type": "stream",
     "text": [
      "+---------+---------+--------------------+--------+--------------+---------+----------+--------------+-------------------+\n",
      "|InvoiceNo|StockCode|         Description|Quantity|   InvoiceDate|UnitPrice|CustomerID|       Country|     NewInvoiceDate|\n",
      "+---------+---------+--------------------+--------+--------------+---------+----------+--------------+-------------------+\n",
      "|   536365|   85123A|WHITE HANGING HEA...|       6|12/1/2010 8:26|     2.55|     17850|United Kingdom|2010-12-01 08:26:00|\n",
      "|   536365|    71053| WHITE METAL LANTERN|       6|12/1/2010 8:26|     3.39|     17850|United Kingdom|2010-12-01 08:26:00|\n",
      "|   536365|   84406B|CREAM CUPID HEART...|       8|12/1/2010 8:26|     2.75|     17850|United Kingdom|2010-12-01 08:26:00|\n",
      "|   536365|   84029G|KNITTED UNION FLA...|       6|12/1/2010 8:26|     3.39|     17850|United Kingdom|2010-12-01 08:26:00|\n",
      "|   536365|   84029E|RED WOOLLY HOTTIE...|       6|12/1/2010 8:26|     3.39|     17850|United Kingdom|2010-12-01 08:26:00|\n",
      "+---------+---------+--------------------+--------+--------------+---------+----------+--------------+-------------------+\n",
      "only showing top 5 rows\n",
      "\n"
     ]
    }
   ],
   "source": [
    "df.show(5)"
   ]
  },
  {
   "attachments": {},
   "cell_type": "markdown",
   "metadata": {},
   "source": [
    "calculate total price"
   ]
  },
  {
   "cell_type": "code",
   "execution_count": 12,
   "metadata": {},
   "outputs": [],
   "source": [
    "df = df.withColumn('TotalPrice', round( df.Quantity * df.UnitPrice, 2 ) )"
   ]
  },
  {
   "attachments": {},
   "cell_type": "markdown",
   "metadata": {},
   "source": [
    "calculate the time difference"
   ]
  },
  {
   "cell_type": "code",
   "execution_count": 13,
   "metadata": {},
   "outputs": [],
   "source": [
    "from pyspark.sql.functions import mean, min, max, sum, datediff, to_date, lit\n",
    "\n",
    "date_max = df.select(max('NewInvoiceDate')).toPandas()\n",
    "current = to_utc_timestamp(unix_timestamp(lit(str(date_max.iloc[0][0])),\n",
    "                                          'yy-MM-dd HH:mm').cast('timestamp'), 'UTC')\n",
    "\n",
    "df = df.withColumn('Duration', datediff(lit(current), 'NewInvoiceDate'))\n"
   ]
  },
  {
   "attachments": {},
   "cell_type": "markdown",
   "metadata": {},
   "source": [
    "build the Recency, Frequency and Monetary"
   ]
  },
  {
   "cell_type": "code",
   "execution_count": 14,
   "metadata": {},
   "outputs": [],
   "source": [
    "recency = df.groupBy('CustomerID').agg(min('Duration').alias('Recency'))\n",
    "frequency = df.groupBy('CustomerID', 'InvoiceNo').count()\\\n",
    "                        .groupBy('CustomerID')\\\n",
    "                        .agg(count(\"*\").alias(\"Frequency\"))\n",
    "monetary = df.groupBy('CustomerID').agg(round(sum('TotalPrice'), 2).alias('Monetary'))\n",
    "rfm = recency.join(frequency,'CustomerID', how = 'inner')\\\n",
    "             .join(monetary,'CustomerID', how = 'inner')"
   ]
  },
  {
   "cell_type": "code",
   "execution_count": 15,
   "metadata": {},
   "outputs": [
    {
     "name": "stderr",
     "output_type": "stream",
     "text": [
      "                                                                                \r"
     ]
    },
    {
     "name": "stdout",
     "output_type": "stream",
     "text": [
      "+----------+-------+---------+--------+\n",
      "|CustomerID|Recency|Frequency|Monetary|\n",
      "+----------+-------+---------+--------+\n",
      "|     16503|    106|        5| 1421.43|\n",
      "|     17420|     50|        3|  598.83|\n",
      "|     15727|     16|        7| 5178.96|\n",
      "|     16861|     59|        3|  151.65|\n",
      "|     17389|      0|       43|31300.08|\n",
      "+----------+-------+---------+--------+\n",
      "only showing top 5 rows\n",
      "\n"
     ]
    }
   ],
   "source": [
    "rfm.show(5)"
   ]
  },
  {
   "attachments": {},
   "cell_type": "markdown",
   "metadata": {},
   "source": [
    "####  RFM Segmentation"
   ]
  },
  {
   "cell_type": "code",
   "execution_count": 16,
   "metadata": {},
   "outputs": [],
   "source": [
    "def RScore(x):\n",
    "    if  x <= 16:\n",
    "        return 1\n",
    "    elif x<= 50:\n",
    "        return 2\n",
    "    elif x<= 143:\n",
    "        return 3\n",
    "    else:\n",
    "        return 4\n",
    "\n",
    "def FScore(x):\n",
    "    if  x <= 1:\n",
    "        return 4\n",
    "    elif x <= 3:\n",
    "        return 3\n",
    "    elif x <= 5:\n",
    "        return 2\n",
    "    else:\n",
    "        return 1\n",
    "\n",
    "def MScore(x):\n",
    "    if  x <= 293:\n",
    "        return 4\n",
    "    elif x <= 648:\n",
    "        return 3\n",
    "    elif x <= 1611:\n",
    "        return 2\n",
    "    else:\n",
    "        return 1\n",
    "\n",
    "from pyspark.sql.functions import udf\n",
    "from pyspark.sql.types import ByteType\n",
    "\n",
    "R_udf = udf(lambda x: RScore(x), ByteType())\n",
    "F_udf = udf(lambda x: FScore(x), ByteType())\n",
    "M_udf = udf(lambda x: MScore(x), ByteType())\n"
   ]
  },
  {
   "cell_type": "code",
   "execution_count": 17,
   "metadata": {},
   "outputs": [
    {
     "name": "stderr",
     "output_type": "stream",
     "text": [
      "                                                                                \r"
     ]
    },
    {
     "name": "stdout",
     "output_type": "stream",
     "text": [
      "+----------+-------+---------+--------+-----+-----+-----+\n",
      "|CustomerID|Recency|Frequency|Monetary|r_seg|f_seg|m_seg|\n",
      "+----------+-------+---------+--------+-----+-----+-----+\n",
      "|     16503|    106|        5| 1421.43|    3|    2|    2|\n",
      "|     17420|     50|        3|  598.83|    2|    3|    3|\n",
      "|     15727|     16|        7| 5178.96|    1|    1|    1|\n",
      "|     16861|     59|        3|  151.65|    3|    3|    4|\n",
      "|     17389|      0|       43|31300.08|    1|    1|    1|\n",
      "+----------+-------+---------+--------+-----+-----+-----+\n",
      "only showing top 5 rows\n",
      "\n"
     ]
    }
   ],
   "source": [
    "rfm_seg = rfm.withColumn(\"r_seg\", R_udf(\"Recency\"))\n",
    "rfm_seg = rfm_seg.withColumn(\"f_seg\", F_udf(\"Frequency\"))\n",
    "rfm_seg = rfm_seg.withColumn(\"m_seg\", M_udf(\"Monetary\"))\n",
    "rfm_seg.show(5)"
   ]
  },
  {
   "cell_type": "code",
   "execution_count": 26,
   "metadata": {},
   "outputs": [
    {
     "name": "stdout",
     "output_type": "stream",
     "text": [
      "+----------+-------+---------+--------+-----+-----+-----+--------+\n",
      "|CustomerID|Recency|Frequency|Monetary|r_seg|f_seg|m_seg|RFMScore|\n",
      "+----------+-------+---------+--------+-----+-----+-----+--------+\n",
      "|     18161|     10|        6| 1612.79|    1|    1|    1|     111|\n",
      "|     17389|      0|       43|31300.08|    1|    1|    1|     111|\n",
      "|     12471|      2|       49|18740.92|    1|    1|    1|     111|\n",
      "|     15727|     16|        7| 5178.96|    1|    1|    1|     111|\n",
      "|     17754|      0|        6| 1739.92|    1|    1|    1|     111|\n",
      "+----------+-------+---------+--------+-----+-----+-----+--------+\n",
      "only showing top 5 rows\n",
      "\n"
     ]
    }
   ],
   "source": [
    "import pyspark.sql.functions as F\n",
    "rfm_seg = rfm_seg.withColumn('RFMScore',\n",
    "                             F.concat(F.col('r_seg'),F.col('f_seg'), F.col('m_seg')))\n",
    "rfm_seg.sort(F.col('RFMScore')).show(5)"
   ]
  },
  {
   "attachments": {},
   "cell_type": "markdown",
   "metadata": {},
   "source": [
    "#### Statistical Summary"
   ]
  },
  {
   "cell_type": "code",
   "execution_count": 28,
   "metadata": {},
   "outputs": [
    {
     "name": "stdout",
     "output_type": "stream",
     "text": [
      "+--------+-----------------+------------------+------------------+\n",
      "|RFMScore|     avg(Recency)|    avg(Frequency)|     avg(Monetary)|\n",
      "+--------+-----------------+------------------+------------------+\n",
      "|     111|6.035123966942149|18.882231404958677|  8828.88859504132|\n",
      "|     112|7.237113402061856| 7.752577319587629|1223.3604123711339|\n",
      "|     113|              8.0|               7.5|          505.9775|\n",
      "|     114|             11.0|               8.0|            191.17|\n",
      "|     121|6.472727272727273| 4.636363636363637|2569.0619999999994|\n",
      "+--------+-----------------+------------------+------------------+\n",
      "only showing top 5 rows\n",
      "\n"
     ]
    }
   ],
   "source": [
    "from pyspark.sql.functions import col\n",
    "\n",
    "rfm_seg.groupBy('RFMScore')\\\n",
    "       .agg(mean('Recency'),\n",
    "            mean('Frequency'),\n",
    "            mean('Monetary'))\\\n",
    "    .sort(col('RFMScore')).show(5)\n"
   ]
  },
  {
   "attachments": {},
   "cell_type": "markdown",
   "metadata": {},
   "source": [
    "#### Build feature matrix"
   ]
  },
  {
   "cell_type": "code",
   "execution_count": 29,
   "metadata": {},
   "outputs": [],
   "source": [
    "from pyspark.ml.linalg import Vectors\n",
    "\n",
    "def transData(data):\n",
    "    return data.rdd.map(lambda r: [r[0],Vectors.dense(r[1:])]).toDF(['CustomerID','rfm'])"
   ]
  },
  {
   "cell_type": "code",
   "execution_count": 30,
   "metadata": {},
   "outputs": [
    {
     "name": "stderr",
     "output_type": "stream",
     "text": [
      "                                                                                \r"
     ]
    },
    {
     "name": "stdout",
     "output_type": "stream",
     "text": [
      "+----------+-------------------+\n",
      "|CustomerID|                rfm|\n",
      "+----------+-------------------+\n",
      "|     16503|[106.0,5.0,1421.43]|\n",
      "|     17420|  [50.0,3.0,598.83]|\n",
      "|     15727| [16.0,7.0,5178.96]|\n",
      "|     16861|  [59.0,3.0,151.65]|\n",
      "|     17389|[0.0,43.0,31300.08]|\n",
      "+----------+-------------------+\n",
      "only showing top 5 rows\n",
      "\n"
     ]
    }
   ],
   "source": [
    "transformed= transData(rfm)\n",
    "transformed.show(5)"
   ]
  },
  {
   "attachments": {},
   "cell_type": "markdown",
   "metadata": {},
   "source": [
    "Scaler the feature matrix"
   ]
  },
  {
   "cell_type": "code",
   "execution_count": 31,
   "metadata": {},
   "outputs": [
    {
     "name": "stdout",
     "output_type": "stream",
     "text": [
      "+----------+-------------------+---------------------------------------------------------------+\n",
      "|CustomerID|rfm                |features                                                       |\n",
      "+----------+-------------------+---------------------------------------------------------------+\n",
      "|16503     |[106.0,5.0,1421.43]|[0.28418230563002683,0.016194331983805668,0.02011814573186342] |\n",
      "|17420     |[50.0,3.0,598.83]  |[0.13404825737265416,0.008097165991902834,0.017219387148308358]|\n",
      "|15727     |[16.0,7.0,5178.96] |[0.04289544235924933,0.024291497975708502,0.033359298589225005]|\n",
      "|16861     |[59.0,3.0,151.65]  |[0.1581769436997319,0.008097165991902834,0.01564357039241953]  |\n",
      "|17389     |[0.0,43.0,31300.08]|[0.0,0.1700404858299595,0.12540746393334334]                   |\n",
      "+----------+-------------------+---------------------------------------------------------------+\n",
      "only showing top 5 rows\n",
      "\n"
     ]
    }
   ],
   "source": [
    "from pyspark.ml.feature import MinMaxScaler\n",
    "\n",
    "scaler = MinMaxScaler(inputCol=\"rfm\",\\\n",
    "         outputCol=\"features\")\n",
    "scalerModel =  scaler.fit(transformed)\n",
    "scaledData = scalerModel.transform(transformed)\n",
    "scaledData.show(5,False)"
   ]
  },
  {
   "attachments": {},
   "cell_type": "markdown",
   "metadata": {},
   "source": [
    "#### K-means clustering"
   ]
  },
  {
   "cell_type": "code",
   "execution_count": 32,
   "metadata": {},
   "outputs": [],
   "source": [
    "import numpy as np\n",
    "from pyspark.ml.clustering import KMeans\n",
    "from pyspark.ml.evaluation import ClusteringEvaluator\n",
    "\n",
    "cost = np.zeros(20)\n",
    "\n",
    "evaluator = ClusteringEvaluator()\n",
    "\n",
    "\n",
    "for k in range(2, 20):\n",
    "    kmeans = KMeans()\\\n",
    "        .setK(k)\\\n",
    "        .setSeed(1)\n",
    "\n",
    "    model = kmeans.fit(scaledData)\n",
    "    predictions = model.transform(scaledData)\n",
    "    silhouette = evaluator.evaluate(predictions)\n",
    "    cost[k] = silhouette"
   ]
  },
  {
   "attachments": {},
   "cell_type": "markdown",
   "metadata": {},
   "source": [
    "#### We can see that the local maximum is at K=3 i.e. 3 clusters will give us the best results (which is also the number of labels in the original dataset)."
   ]
  },
  {
   "cell_type": "code",
   "execution_count": 33,
   "metadata": {},
   "outputs": [
    {
     "data": {
      "image/png": "[encoded data removed]",
      "text/plain": [
       "<Figure size 800x600 with 1 Axes>"
      ]
     },
     "metadata": {},
     "output_type": "display_data"
    }
   ],
   "source": [
    "import matplotlib.pyplot as plt\n",
    "from matplotlib.ticker import MaxNLocator\n",
    "\n",
    "fig, ax = plt.subplots(1, 1, figsize=(8, 6))\n",
    "ax.plot(range(2, 20), cost[2:20])\n",
    "ax.set_xlabel('k')\n",
    "ax.set_ylabel('cost')\n",
    "ax.xaxis.set_major_locator(MaxNLocator(integer=True))\n",
    "plt.show()\n"
   ]
  },
  {
   "cell_type": "code",
   "execution_count": 34,
   "metadata": {},
   "outputs": [
    {
     "name": "stdout",
     "output_type": "stream",
     "text": [
      "+----------+-------------------+---------------------------------------------------------------+----------+\n",
      "|CustomerID|rfm                |features                                                       |prediction|\n",
      "+----------+-------------------+---------------------------------------------------------------+----------+\n",
      "|16503     |[106.0,5.0,1421.43]|[0.28418230563002683,0.016194331983805668,0.02011814573186342] |2         |\n",
      "|17420     |[50.0,3.0,598.83]  |[0.13404825737265416,0.008097165991902834,0.017219387148308358]|0         |\n",
      "|15727     |[16.0,7.0,5178.96] |[0.04289544235924933,0.024291497975708502,0.033359298589225005]|0         |\n",
      "|16861     |[59.0,3.0,151.65]  |[0.1581769436997319,0.008097165991902834,0.01564357039241953]  |0         |\n",
      "|17389     |[0.0,43.0,31300.08]|[0.0,0.1700404858299595,0.12540746393334334]                   |0         |\n",
      "+----------+-------------------+---------------------------------------------------------------+----------+\n",
      "only showing top 5 rows\n",
      "\n"
     ]
    }
   ],
   "source": [
    "k = 3\n",
    "kmeans = KMeans().setK(k).setSeed(1)\n",
    "model = kmeans.fit(scaledData)\n",
    "predictions = model.transform(scaledData)\n",
    "predictions.show(5,False)"
   ]
  },
  {
   "attachments": {},
   "cell_type": "markdown",
   "metadata": {},
   "source": [
    "#### Statistical summary"
   ]
  },
  {
   "cell_type": "code",
   "execution_count": 35,
   "metadata": {},
   "outputs": [
    {
     "name": "stdout",
     "output_type": "stream",
     "text": [
      "+----------+-------+---------+--------+----------+\n",
      "|CustomerID|Recency|Frequency|Monetary|prediction|\n",
      "+----------+-------+---------+--------+----------+\n",
      "|     16503|    106|        5| 1421.43|         2|\n",
      "|     17420|     50|        3|  598.83|         0|\n",
      "|     15727|     16|        7| 5178.96|         0|\n",
      "|     16861|     59|        3|  151.65|         0|\n",
      "|     17389|      0|       43|31300.08|         0|\n",
      "+----------+-------+---------+--------+----------+\n",
      "only showing top 5 rows\n",
      "\n"
     ]
    }
   ],
   "source": [
    "results = rfm.join(predictions.select('CustomerID', 'prediction'), 'CustomerID', how='left')\n",
    "results.show(5)"
   ]
  },
  {
   "cell_type": "code",
   "execution_count": 36,
   "metadata": {},
   "outputs": [
    {
     "name": "stdout",
     "output_type": "stream",
     "text": [
      "+----------+------------------+------------------+------------------+\n",
      "|prediction|      avg(Recency)|     avg(Monetary)|    avg(Frequency)|\n",
      "+----------+------------------+------------------+------------------+\n",
      "|         0|30.966337980278816|2543.0355321319194| 6.514450867052023|\n",
      "|         1|296.02403846153845| 407.1683173076924|1.5592948717948718|\n",
      "|         2|154.40148698884758| 702.5096406443622| 2.550185873605948|\n",
      "+----------+------------------+------------------+------------------+\n",
      "\n"
     ]
    }
   ],
   "source": [
    "results.groupBy('prediction')\\\n",
    "       .agg({'Recency':'mean',\n",
    "             'Frequency': 'mean',\n",
    "             'Monetary': 'mean'} )\\\n",
    "        .sort(F.col('prediction')).show(5)"
   ]
  }
 ],
 "metadata": {
  "kernelspec": {
   "display_name": "env_zrcn",
   "language": "python",
   "name": "python3"
  },
  "language_info": {
   "codemirror_mode": {
    "name": "ipython",
    "version": 3
   },
   "file_extension": ".py",
   "mimetype": "text/x-python",
   "name": "python",
   "nbconvert_exporter": "python",
   "pygments_lexer": "ipython3",
   "version": "3.10.6"
  },
  "orig_nbformat": 4,
  "vscode": {
   "interpreter": {
    "hash": "7e1a58a675642a9d7e7bf289cf55710eb7b7495641a6fd966abca228b2258833"
   }
  }
 },
 "nbformat": 4,
 "nbformat_minor": 2
}
